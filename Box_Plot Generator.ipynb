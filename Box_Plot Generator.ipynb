{
 "cells": [
  {
   "cell_type": "code",
   "execution_count": 1,
   "metadata": {
    "collapsed": true,
    "deletable": true,
    "editable": true
   },
   "outputs": [],
   "source": [
    "import plotly.plotly as py\n",
    "import plotly.graph_objs as go\n",
    "import matplotlib.pyplot as plt \n",
    "import numpy as np"
   ]
  },
  {
   "cell_type": "code",
   "execution_count": 9,
   "metadata": {
    "collapsed": false,
    "deletable": true,
    "editable": true
   },
   "outputs": [],
   "source": [
    "import scipy.io as sio\n",
    "filename0 = '/home/niharika-shimona/Documents/Projects/Autism_Network/Results/Sanity_Check/aut/whole/ADOS.Total/' + 'Metrics_full.mat'\n",
    "data0 = sio.loadmat(filename0)\n",
    "trace0 = abs(data0['y_pred']-data0['y_test'])\n",
    "filename1 = '/home/niharika-shimona/Documents/Projects/Autism_Network/Results/Sanity_Check/aut/kernel/ADOS.Total/' + 'Metrics_full.mat'\n",
    "data1 = sio.loadmat(filename1)\n",
    "trace1 = abs(data1['y_pred']-data1['y_test'])\n",
    "filename2 = '/home/niharika-shimona/Documents/Projects/Autism_Network/Results/Sanity_Check/aut/Reduced_Rank1/ADOS.Total/' + 'Metrics_full.mat'\n",
    "data2 = sio.loadmat(filename2)\n",
    "trace2 = abs(data2['y_pred']-data2['y_test'])\n",
    "filename3 = '/home/niharika-shimona/nsalab-mceh/Users/ndsouza4/Projects/Autism_Network/Results/Sparse connectivity patterns/Convex_Relaxation/ADOS_CV/'+ 'Metrics_full.mat'\n",
    "data3 = sio.loadmat(filename3)\n",
    "trace3 = abs(data3['y_obt_test']-data3['y_test'])\n",
    "# filename4 = '/home/niharika-shimona/nsalab-mceh/Users/ndsouza4/Projects/Autism_Network/Results/Sparse connectivity patterns/10_fold_CV_new/23-10-2017/baseline/ADOS_CV/'+'test.mat'\n",
    "# data4 = sio.loadmat(filename4)\n",
    "# trace4 = abs(data4['y_obt_test']-data4['y_test'])"
   ]
  },
  {
   "cell_type": "code",
   "execution_count": 10,
   "metadata": {
    "collapsed": false,
    "deletable": true,
    "editable": true
   },
   "outputs": [
    {
     "data": {
      "image/png": "[encoded data removed]",
      "text/plain": [
       "<matplotlib.figure.Figure at 0x7f7316e22cd0>"
      ]
     },
     "metadata": {},
     "output_type": "display_data"
    }
   ],
   "source": [
    "fig = plt.figure(1, figsize=(9, 6))\n",
    "ax = fig.add_subplot(111)\n",
    "# Create the boxplot\n",
    "bp = ax.boxplot([trace0,trace1,trace2,trace3])\n",
    "ax.set_xticklabels(['RF Reg','kPCA + RF_Reg', 'PCA +RF Reg','Our Method'])\n",
    "plt.show()"
   ]
  },
  {
   "cell_type": "code",
   "execution_count": 42,
   "metadata": {
    "collapsed": false,
    "deletable": true,
    "editable": true
   },
   "outputs": [],
   "source": [
    "filename0 = '/home/niharika-shimona/Documents/Projects/Autism_Network/Results/Sanity_Check/aut/whole/SRS.TotalRaw.Score/' + 'Metrics_full.mat'\n",
    "data0 = sio.loadmat(filename0)\n",
    "trace0 = abs(data0['y_pred']-data0['y_test'])\n",
    "filename1 = '/home/niharika-shimona/Documents/Projects/Autism_Network/Results/Sanity_Check/aut/kernel/SRS.TotalRaw.Score/' + 'Metrics_full.mat'\n",
    "data1 = sio.loadmat(filename1)\n",
    "trace1 = abs(data1['y_pred']-data1['y_test'])\n",
    "filename2 = '/home/niharika-shimona/Documents/Projects/Autism_Network/Results/Sanity_Check/aut/Reduced_Rank1/SRS.TotalRaw.Score/' + 'Metrics_full.mat'\n",
    "data2 = sio.loadmat(filename2)\n",
    "trace2 = abs(data2['y_pred']-data2['y_test'])\n",
    "# filename3 = '/home/niharika-shimona/nsalab-mceh/Users/ndsouza4/Projects/Autism_Network/Results/Sparse connectivity patterns/Convex_Relaxation/ADOS_CV/'+ 'Metrics_full.mat'\n",
    "# data3 = sio.loadmat(filename3)\n",
    "# trace3 = abs(data3['y_pred_test']-data3['y_test'])\n",
    "filename4 = '/home/niharika-shimona/nsalab-mceh/Users/ndsouza4/Projects/Autism_Network/Results/Sparse connectivity patterns/10_fold_CV_new/23-10-2017/baseline/SRS_Aut_CV/'+'Metrics_full.mat'\n",
    "data4 = sio.loadmat(filename4)\n",
    "trace4 = abs(data4['y_pred_test']-data4['y_test'])"
   ]
  },
  {
   "cell_type": "code",
   "execution_count": 43,
   "metadata": {
    "collapsed": false,
    "deletable": true,
    "editable": true
   },
   "outputs": [
    {
     "data": {
      "image/png": "[encoded data removed]",
      "text/plain": [
       "<matplotlib.figure.Figure at 0x7f02956ac210>"
      ]
     },
     "metadata": {},
     "output_type": "display_data"
    }
   ],
   "source": [
    "fig = plt.figure(1, figsize=(9, 6))\n",
    "ax = fig.add_subplot(111)\n",
    "# Create the boxplot\n",
    "bp = ax.boxplot([trace0,trace1,trace2,trace4])\n",
    "ax.set_xticklabels(['RF Reg','kPCA + RF_Reg', 'PCA +RF Reg','Old Optimisation'])\n",
    "plt.show()"
   ]
  },
  {
   "cell_type": "code",
   "execution_count": 45,
   "metadata": {
    "collapsed": false,
    "deletable": true,
    "editable": true
   },
   "outputs": [],
   "source": [
    "filename0 = '/home/niharika-shimona/Documents/Projects/Autism_Network/Results/Sanity_Check/cont/whole/SRS.TotalRaw.Score/' + 'Metrics_full.mat'\n",
    "data0 = sio.loadmat(filename0)\n",
    "trace0 = abs(data0['y_pred']-data0['y_test'])\n",
    "filename1 = '/home/niharika-shimona/Documents/Projects/Autism_Network/Results/Sanity_Check/cont/kernel/SRS.TotalRaw.Score/' + 'Metrics_full.mat'\n",
    "data1 = sio.loadmat(filename1)\n",
    "trace1 = abs(data1['y_pred']-data1['y_test'])\n",
    "filename2 = '/home/niharika-shimona/Documents/Projects/Autism_Network/Results/Sanity_Check/cont/Reduced_Rank1/SRS.TotalRaw.Score/' + 'Metrics_full.mat'\n",
    "data2 = sio.loadmat(filename2)\n",
    "trace2 = abs(data2['y_pred']-data2['y_test'])\n",
    "filename3 = '/home/niharika-shimona/nsalab-mceh/Users/ndsouza4/Projects/Autism_Network/Results/Sparse connectivity patterns/Convex_Relaxation/SRS_Cont_CV/'+ 'Metrics_full.mat'\n",
    "data3 = sio.loadmat(filename3)\n",
    "trace3 = abs(data3['y_pred_test']-data3['y_test'])\n",
    "filename4 = '/home/niharika-shimona/nsalab-mceh/Users/ndsouza4/Projects/Autism_Network/Results/Sparse connectivity patterns/10_fold_CV_new/23-10-2017/baseline/SRS_Cont_CV/'+'Metrics_full.mat'\n",
    "data4 = sio.loadmat(filename4)\n",
    "trace4 = abs(data4['y_pred_test']-data4['y_test'])"
   ]
  },
  {
   "cell_type": "code",
   "execution_count": 46,
   "metadata": {
    "collapsed": false,
    "deletable": true,
    "editable": true
   },
   "outputs": [
    {
     "data": {
      "image/png": "[encoded data removed]",
      "text/plain": [
       "<matplotlib.figure.Figure at 0x7f029588cd50>"
      ]
     },
     "metadata": {},
     "output_type": "display_data"
    }
   ],
   "source": [
    "fig = plt.figure(1, figsize=(9, 6))\n",
    "ax = fig.add_subplot(111)\n",
    "# Create the boxplot\n",
    "bp = ax.boxplot([trace0,trace1,trace2,trace3,trace4])\n",
    "ax.set_xticklabels(['RF Reg','kPCA + RF_Reg', 'PCA +RF Reg','Our Method','Old Optimisation'])\n",
    "plt.show()"
   ]
  },
  {
   "cell_type": "code",
   "execution_count": null,
   "metadata": {
    "collapsed": true,
    "deletable": true,
    "editable": true
   },
   "outputs": [],
   "source": []
  }
 ],
 "metadata": {
  "kernelspec": {
   "display_name": "Python 2",
   "language": "python",
   "name": "python2"
  },
  "language_info": {
   "codemirror_mode": {
    "name": "ipython",
    "version": 2
   },
   "file_extension": ".py",
   "mimetype": "text/x-python",
   "name": "python",
   "nbconvert_exporter": "python",
   "pygments_lexer": "ipython2",
   "version": "2.7.12"
  }
 },
 "nbformat": 4,
 "nbformat_minor": 2
}
